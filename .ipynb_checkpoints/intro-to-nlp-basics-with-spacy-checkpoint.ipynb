{
 "cells": [
  {
   "cell_type": "markdown",
   "metadata": {
    "_uuid": "68e8e0f63fed803b2f74effbe101847d8bcfc5b6"
   },
   "source": [
    "### What is NLP?\n",
    "\n",
    "NLP - **Natural Language Processing** is the process of analysing Natural Language (as in, How we humans speak) and extracting meaningful insights from the given data. NLP has become one of the very popular areas of interest due to increase in NLP and also development in Information Extraction (IE) methodologies. \n",
    "\n",
    "### Sources of Natural Langauge\n",
    "\n",
    "* Social Media  (like FB Posts/Comments, Twitter Tweets, Youtube Comments)\n",
    "* Speech Transcripts (Call Center Conversations) \n",
    "* Voice Agents (Amazon Echo, Google Home, Apple Siri) \n",
    "\n",
    "### Some Applications of NLP\n",
    "\n",
    "* Automated Customer Service \n",
    "* Chatbots\n",
    "* Social Listening\n",
    "* Market Trends and much more"
   ]
  },
  {
   "cell_type": "markdown",
   "metadata": {
    "_uuid": "d051d19ec2fdd0fc8b121d1b2b8af424210dd3ed"
   },
   "source": [
    "### About this Dataset\n",
    "\n",
    "This dataset contains a bunch of tweet that came with this tag **#JustDoIt** after **Nike** released the ad campaign with Colin Kaepernick that turned controversial. \n",
    "\n",
    "<img src=\"https://www.thenation.com/wp-content/uploads/2018/09/Kaepernick-Nike-Ad-sg-img.jpg\" alt=\"drawing\" width=\"400\"/>"
   ]
  },
  {
   "cell_type": "markdown",
   "metadata": {
    "_uuid": "9a60f9462b397c761d25552bc9fa112078b8b9e0"
   },
   "source": [
    "### About spaCy:\n",
    "\n",
    "spaCy by [explosion.ai](https://explosion.ai/) is a library for advanced **Natural Language Processing** in Python and Cython.\n",
    "spaCy comes with\n",
    "*pre-trained statistical models* and word\n",
    "vectors, and currently supports tokenization for **20+ languages**. It features\n",
    "the **fastest syntactic parser** in the world, convolutional **neural network models**\n",
    "for tagging, parsing and **named entity recognition** and easy **deep learning**\n",
    "integration. It's commercial open-source software, released under the MIT license."
   ]
  },
  {
   "cell_type": "markdown",
   "metadata": {
    "_uuid": "d8ee082d0b79b21cb780bbf708b332d59e7f6401"
   },
   "source": [
    "### About this Kernel:\n",
    "\n",
    "In this Kernel, We will learn how to use *spaCy* in Python to perform a few things of NLP. "
   ]
  },
  {
   "cell_type": "markdown",
   "metadata": {},
   "source": [
    "### Installation"
   ]
  },
  {
   "cell_type": "code",
   "execution_count": null,
   "metadata": {},
   "outputs": [],
   "source": [
    "!! pip3 install spacy"
   ]
  },
  {
   "cell_type": "markdown",
   "metadata": {
    "_uuid": "3d9077637ce7bdfaccf7cce21e05d579bb43bc57"
   },
   "source": [
    "Let us begin our journey by loading required libraries. \n",
    "\n",
    "### Loading the required Libraries"
   ]
  },
  {
   "cell_type": "code",
   "execution_count": 1,
   "metadata": {
    "_cell_guid": "b1076dfc-b9ad-4769-8c92-a6c4dae69d19",
    "_uuid": "8f2839f25d086af736a60e9eeb907d3b93b6e0e5"
   },
   "outputs": [
    {
     "ename": "ModuleNotFoundError",
     "evalue": "No module named 'spacy'",
     "output_type": "error",
     "traceback": [
      "\u001b[0;31m---------------------------------------------------------------------------\u001b[0m",
      "\u001b[0;31mModuleNotFoundError\u001b[0m                       Traceback (most recent call last)",
      "\u001b[0;32m<ipython-input-1-50a2f6e20f24>\u001b[0m in \u001b[0;36m<module>\u001b[0;34m()\u001b[0m\n\u001b[1;32m      3\u001b[0m \u001b[0;31m#import os\u001b[0m\u001b[0;34m\u001b[0m\u001b[0;34m\u001b[0m\u001b[0m\n\u001b[1;32m      4\u001b[0m \u001b[0;31m#print(os.listdir(\"../input\"))\u001b[0m\u001b[0;34m\u001b[0m\u001b[0;34m\u001b[0m\u001b[0m\n\u001b[0;32m----> 5\u001b[0;31m \u001b[0;32mimport\u001b[0m \u001b[0mspacy\u001b[0m\u001b[0;34m\u001b[0m\u001b[0m\n\u001b[0m\u001b[1;32m      6\u001b[0m \u001b[0;32mimport\u001b[0m \u001b[0mrandom\u001b[0m\u001b[0;34m\u001b[0m\u001b[0m\n\u001b[1;32m      7\u001b[0m \u001b[0;32mfrom\u001b[0m \u001b[0mcollections\u001b[0m \u001b[0;32mimport\u001b[0m \u001b[0mCounter\u001b[0m \u001b[0;31m#for counting\u001b[0m\u001b[0;34m\u001b[0m\u001b[0m\n",
      "\u001b[0;31mModuleNotFoundError\u001b[0m: No module named 'spacy'"
     ]
    }
   ],
   "source": [
    "#import numpy as np # linear algebra\n",
    "import pandas as pd # data processing, CSV file I/O (e.g. pd.read_csv)\n",
    "#import os\n",
    "#print(os.listdir(\"../input\"))\n",
    "import spacy\n",
    "import random \n",
    "from collections import Counter #for counting\n",
    "import seaborn as sns #for visualization"
   ]
  },
  {
   "cell_type": "markdown",
   "metadata": {
    "_uuid": "98d877514cbeeec3cf7c48ebbbee7be81feba570"
   },
   "source": [
    "As we have seen above, *spaCy* comes with Pre-trained Language models and since our tweets are predominantly English, let us load our *en* model using the following code:\n",
    "\n",
    "### Loading Spacy English Model"
   ]
  },
  {
   "cell_type": "code",
   "execution_count": null,
   "metadata": {
    "_cell_guid": "79c7e3d0-c299-4dcb-8224-4455121ee9b0",
    "_uuid": "d629ff2d2480ee46fbb7e2d37f6b5fab8052498a"
   },
   "outputs": [],
   "source": [
    "nlp = spacy.load('en')"
   ]
  },
  {
   "cell_type": "markdown",
   "metadata": {
    "_uuid": "58eece9054893846fa8f623f6665ea32c4d3e137"
   },
   "source": [
    "Please note that you can download other language models by running a code like below in your shell or terminal\n",
    "\n",
    "`python -m spacy download en_core_web_sm` \n",
    "\n",
    "and then loading using `spacy.load()`. The last argument in the above code is the name of the langauge model that's to be downloaded. \n",
    "\n",
    "Now that our model is successfully loaded into `nlp`, let us read our input data using `read_csv()` of `pandas`. \n",
    "\n",
    "### Reading input file - Tweets"
   ]
  },
  {
   "cell_type": "code",
   "execution_count": null,
   "metadata": {
    "_uuid": "dd67524dbbaba692671d1e4510ec06de82582e75"
   },
   "outputs": [],
   "source": [
    "tweets = pd.read_csv(\"../input/justdoit_tweets_2018_09_07_2.csv\")"
   ]
  },
  {
   "cell_type": "markdown",
   "metadata": {
    "_uuid": "d5fe417fe614fee793ccbd86a900e37b48433115"
   },
   "source": [
    "As with any dataset, let us do a few basics like understanding the shape (dimension) of the dataset and then see a sample row. \n",
    "\n",
    "### Dimension of the input file"
   ]
  },
  {
   "cell_type": "code",
   "execution_count": null,
   "metadata": {
    "_uuid": "03e691f97fcadc5c34555db290056e255803ec16"
   },
   "outputs": [],
   "source": [
    "tweets.shape"
   ]
  },
  {
   "cell_type": "markdown",
   "metadata": {
    "_uuid": "20a533d60408a56fb3087f0bb71103f920ee878a"
   },
   "source": [
    "### Sample Row"
   ]
  },
  {
   "cell_type": "code",
   "execution_count": null,
   "metadata": {
    "_uuid": "e2358fa524dd26a20f8f05933a6514851135e973"
   },
   "outputs": [],
   "source": [
    "tweets.head(1)"
   ]
  },
  {
   "cell_type": "markdown",
   "metadata": {
    "_uuid": "e9b93cdccf459e4a5f5e916f589e72befaa87ad9"
   },
   "source": [
    "Now that we know `tweet_full_text` is the column name in which tweets are stored, let us print some sample tweets.\n",
    "\n",
    "### Sample Tweets Text"
   ]
  },
  {
   "cell_type": "markdown",
   "metadata": {
    "_uuid": "df8b72accb5420a7e4fd1f2ddbc77661795644b4"
   },
   "source": [
    "For simplicity, Let us take a sample of tweets."
   ]
  },
  {
   "cell_type": "code",
   "execution_count": null,
   "metadata": {
    "_uuid": "65ca2373a0eedc00e569db67dd9ce472bae5a720",
    "scrolled": true
   },
   "outputs": [],
   "source": [
    "random.seed(888)\n",
    "text = tweets.tweet_full_text[random.sample(range(1,100),10)]\n",
    "text"
   ]
  },
  {
   "cell_type": "markdown",
   "metadata": {
    "_uuid": "d84b72316bbdaf2024b421b43ca9bd052807780e"
   },
   "source": [
    "### Annotation:\n",
    "\n",
    "Let us begin our NLP journey with Lingustic Annotation, which means marking each and every word with its linguistic type like if it's a NOUN, VERB and so on. This help us in giving grammatical labels to our Text Corpus. The function `nlp()` takes only string so let us use `str()` to combine all our rows above into one long string. "
   ]
  },
  {
   "cell_type": "code",
   "execution_count": null,
   "metadata": {
    "_uuid": "cf4a5e37c469caf7c807a646d5758f2578eb527e"
   },
   "outputs": [],
   "source": [
    "text_combined = str(text)"
   ]
  },
  {
   "cell_type": "code",
   "execution_count": null,
   "metadata": {
    "_uuid": "b904a67a2caf7b4158adcb8575be26b7da55e295"
   },
   "outputs": [],
   "source": [
    "doc = nlp(text_combined)"
   ]
  },
  {
   "cell_type": "markdown",
   "metadata": {
    "_uuid": "1841650d3a6c29d8cb84d2f4a3c44cf83b9dbe7e"
   },
   "source": [
    "### Tokenization \n",
    "\n",
    "`doc` is the annotated text (that we did using the loaded langauge model). Now, let us tokenize our text. Tokenization has been done along with the above process. We can now print the **chunks**. The tokenized parts are called **chunks**. As a naive description, tokenization is nothing but breaking the long sentences/text corpus into a small chunks (or mostly words). "
   ]
  },
  {
   "cell_type": "code",
   "execution_count": null,
   "metadata": {
    "_uuid": "13814f3e500f613a4dcc352dea287e3b2ef21024"
   },
   "outputs": [],
   "source": [
    "for token in doc:\n",
    "    print(token)"
   ]
  },
  {
   "cell_type": "markdown",
   "metadata": {
    "_uuid": "abc30079f9239231423cf0bc385c51bd50fa46c4"
   },
   "source": [
    "Since we have already done the annotation, Let us print our chunks with their Parts-of-speech tags."
   ]
  },
  {
   "cell_type": "code",
   "execution_count": null,
   "metadata": {
    "_uuid": "578d52966d68ecdc88a1424ee95cf14475972c72"
   },
   "outputs": [],
   "source": [
    "for token in doc:\n",
    "    print(token.text, token.pos_)"
   ]
  },
  {
   "cell_type": "markdown",
   "metadata": {
    "_uuid": "c63b043b80cc1631a9887e33441488812eaa6fed"
   },
   "source": [
    "That's good, We've got a bunch of chunks and their respective POS tags. Perhaps, we don't want to see everything but just NOUNs.  Below is the code how we can print only the nouns in the text."
   ]
  },
  {
   "cell_type": "code",
   "execution_count": null,
   "metadata": {
    "_uuid": "27e68305ffbe3726d9a37c3a7cef9ab1a386301e",
    "scrolled": true
   },
   "outputs": [],
   "source": [
    "nouns = list(doc.noun_chunks)\n",
    "nouns"
   ]
  },
  {
   "cell_type": "markdown",
   "metadata": {
    "_uuid": "14a40a7c1f419786f2e9ef31feb10af2c8eab8aa"
   },
   "source": [
    "Sometimes, we might need to tokenization based on sentences. Let's say we've got Chat Transcript from Customer Service and in that case we need to tokenize our transcript based on sentences. "
   ]
  },
  {
   "cell_type": "code",
   "execution_count": null,
   "metadata": {
    "_uuid": "f3e26061fb28eea4a7715c1d91e84e1aa19c35fa"
   },
   "outputs": [],
   "source": [
    "list(doc.sents)"
   ]
  },
  {
   "cell_type": "markdown",
   "metadata": {
    "_uuid": "f8d6c1d08dcda5d66311b459843d82ca893a650e"
   },
   "source": [
    "### Named Entity Recognition (NER)\n",
    "\n",
    "NER is the process of extracting Named Entities like Person, Organization, Location and other such infromation from our Text Corpus.  spaCy also has an object `displacy` that lets us visualize our text with NER. We can display Named Entities using the following code:"
   ]
  },
  {
   "cell_type": "code",
   "execution_count": null,
   "metadata": {
    "_uuid": "c30e6f64fc7c2c88436a26bfbe12310ba8866315"
   },
   "outputs": [],
   "source": [
    "for ent in doc.ents:\n",
    "    print(ent.text,ent.label_)"
   ]
  },
  {
   "cell_type": "markdown",
   "metadata": {
    "_uuid": "246e50461220a3498f097f56e321f6aac6205c96"
   },
   "source": [
    "**spaCy** also allows to visualize Named Entities along woith the Text Labels. "
   ]
  },
  {
   "cell_type": "code",
   "execution_count": null,
   "metadata": {
    "_uuid": "d26a6d3ae600c115509c39c3a6ae0a56a2bd220a"
   },
   "outputs": [],
   "source": [
    "spacy.displacy.render(doc, style='ent',jupyter=True)"
   ]
  },
  {
   "cell_type": "markdown",
   "metadata": {
    "_uuid": "07ea9f1b126e0a67a6f75faf25a9a971e37f950f"
   },
   "source": [
    "### Lemmatization\n",
    "\n",
    "Lemmetiztion is the process of retrieving the root word of the current word. Lemmatization is an essential process in NLP to bring different variants of a single word to one root word. "
   ]
  },
  {
   "cell_type": "code",
   "execution_count": null,
   "metadata": {
    "_uuid": "2cb094e1e3262eaf314d84e02d47867dcb6802f1"
   },
   "outputs": [],
   "source": [
    "for token in doc:\n",
    "    print(token.text, token.lemma_)"
   ]
  },
  {
   "cell_type": "markdown",
   "metadata": {
    "_uuid": "c0169f1e76b32fc03ecd2ab7a15087f6088fd126"
   },
   "source": [
    "As you can see in the above output, words like *aligning* and *values* have been converted to their root words *align* and *value*. "
   ]
  },
  {
   "cell_type": "markdown",
   "metadata": {
    "_uuid": "4bf66090b018f3255e8003f56574a6ef60611523"
   },
   "source": [
    "### Dependency Parser Visualization"
   ]
  },
  {
   "cell_type": "code",
   "execution_count": null,
   "metadata": {
    "_uuid": "34b73c61e09ee3c4ab1ae378404ff0bafc7d0b2f"
   },
   "outputs": [],
   "source": [
    "spacy.displacy.render(doc, style='dep',jupyter=True)"
   ]
  },
  {
   "cell_type": "markdown",
   "metadata": {
    "_uuid": "2bdf7365af62045f9f346d48ad62600efbfddfec"
   },
   "source": [
    "### WIP! We'll get into more concepts soon!"
   ]
  },
  {
   "cell_type": "markdown",
   "metadata": {
    "_uuid": "a648eca3792fa40077c1a34e3995ff3cd5d442da"
   },
   "source": [
    "Also please note, Text cleaning is one of the vital preprocessing for anything NLP and this kernel hasn't addressed it. "
   ]
  }
 ],
 "metadata": {
  "kernelspec": {
   "display_name": "Python 3",
   "language": "python",
   "name": "python3"
  },
  "language_info": {
   "codemirror_mode": {
    "name": "ipython",
    "version": 3
   },
   "file_extension": ".py",
   "mimetype": "text/x-python",
   "name": "python",
   "nbconvert_exporter": "python",
   "pygments_lexer": "ipython3",
   "version": "3.7.0"
  }
 },
 "nbformat": 4,
 "nbformat_minor": 1
}
